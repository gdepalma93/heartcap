{
 "cells": [
  {
   "cell_type": "markdown",
   "metadata": {},
   "source": [
    "\n",
    "[Guide To Blockchain Tech](https://www.binance.vision/blockchain/what-is-blockchain-technology-a-comprehensive-guide-for-beginners)  \n",
    "[Stock To Flow Model](https://www.binance.vision/economics/bitcoin-and-the-stock-to-flow-model)  \n",
    "[Intro to Ethereum](https://www.binance.vision/blockchain/what-is-ethereum)  \n",
    "[Bitcoin as Store of Value](https://www.binance.vision/economics/is-bitcoin-a-store-of-value) \n",
    "[Intro to Bitcoin](https://www.binance.vision/blockchain/what-is-bitcoin)  \n",
    "[Decentralized Autonmous Organizations](https://www.binance.vision/blockchain/decentralized-autonomous-organizations-daos-explained)  \n",
    "[Beginner's Guide](https://www.binance.vision/economics/a-beginners-guide-to-security-tokens)   \n",
    "[Learn AI](https://www.youtube.com/channel/UCWN3xxRkmTPmbKwht9FuE5A/videos)  \n",
    "[MIT Math x Finance Course](https://ocw.mit.edu/courses/mathematics/18-s096-topics-in-mathematics-with-applications-in-finance-fall-2013/video-lectures/lecture-20-option-price-and-probability-duality/)  \n"
   ]
  },
  {
   "cell_type": "code",
   "execution_count": null,
   "metadata": {},
   "outputs": [],
   "source": [
    "* What are some of the core metrics that companies in this domain use to measure success? How is your company performing, based on these metrics?\n",
    "    - Assets Under Management\n",
    "    - Fund Growth Rate\n",
    "    - Total Partners\n",
    "    - Avg Partner CW Risk Score \n",
    "    - Avg Partner Crypto Net Worth (CNW)\n",
    "    - Avg Partner CNW Growth Rate\n",
    "\n",
    "* How is your company performing relative to competitors in the same domain?\n",
    "    - Still alive, lower quartile\n",
    "    \n",
    "* Major Challenges\n",
    "    - Team Capacity\n",
    "    - Taxes\n",
    "    - Regulation\n",
    "    - Exchange/Custody\n",
    "    - Market Volatility\n",
    "    - Client Experience\n",
    "\n",
    "## Recommendations\n",
    "\n",
    "* Advice\n",
    "    - aim to raise $100 mil for Fund 2.0\n",
    "    - Strategically Partner for Phase 2:\n",
    "        - Fidelity custody solution (Confirmed! let's go!!!) Pitch software solution\n",
    "    - Define Functions\n",
    "        - Def risk ranking calculation for CW Risk Score\n",
    "        - define Crypto Wealth calculation\n",
    "        - \n",
    "   "
   ]
  },
  {
   "cell_type": "code",
   "execution_count": null,
   "metadata": {},
   "outputs": [],
   "source": [
    "    \n",
    "Build and Implement Software Platforms\n",
    "    - RealTime Risk Management: \n",
    "    - Limited Partner Accounting System:\n",
    "    - TRADE EXECUTION: BACKTESTER\n",
    "    - Order and Portfolio Management \n",
    "    - Tokenize Fund with Solidity (Allocate Tokens)\n",
    "    - Implement Quantitative approach to crypto asset allocation in form of RoboAdvisor\n",
    "        - Implement a systematic investment approach taking both long and short directional positions in the digital asset derivative markets(Futures,...options?). The system should include a variety of risk on/off models (relative power algorithm, relative speed algorithm, and relative durability algorithm)\n",
    "        . Trading Software Infrastructure\n",
    "            - Data Ingestion and Transformation: API x NORMALIZATION \n",
    "            - Prop Trading Algos: rel motion calculations\n",
    "            - Robust Trade Execution: Master API (API of APIs, Algos)\n",
    "            - Settlement and back office reporting: ReportCalc CronJob \n",
    "                 - Automate Reporting (alerts)\n",
    "                 - By Event- trade_signal, agenda, \n",
    "                 - By Time-4hr, day, wk, mo, qtr, yr\n",
    "                 - By Team-Role-Person\n",
    "    - Implement InvestorOnBoarding Pipeline to \n",
    "        - Use Typeform\n",
    "    - Build Financial Forecasting System for Heart Capital, LLC (Exit || Build) tp generate a picture of the future to effectively perserve and accumulate wealth. \n",
    "        - \n",
    "    - Build an online store to generate brand loyalty\n",
    "        - Merch for  Marketing Expenses\n",
    "    - Hire Talent (Engineers, Mathematicians, Data Scientist, Quant Traders, Portfolio Engineers, Market Analysists, etc...) or plan to exit. \n"
   ]
  }
 ],
 "metadata": {
  "kernelspec": {
   "display_name": "Python 3",
   "language": "python",
   "name": "python3"
  },
  "language_info": {
   "codemirror_mode": {
    "name": "ipython",
    "version": 3
   },
   "file_extension": ".py",
   "mimetype": "text/x-python",
   "name": "python",
   "nbconvert_exporter": "python",
   "pygments_lexer": "ipython3",
   "version": "3.7.3"
  }
 },
 "nbformat": 4,
 "nbformat_minor": 2
}
